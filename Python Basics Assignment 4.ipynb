{
 "cells": [
  {
   "cell_type": "markdown",
   "id": "cedcac15",
   "metadata": {},
   "source": [
    "1.What exactly is [ ]?\n",
    "\n",
    "Ans:-It is an empty list that contains no items in it ."
   ]
  },
  {
   "cell_type": "markdown",
   "id": "d6c5d8dc",
   "metadata": {},
   "source": [
    "2.In a list of values stored in a variable called spam, how would you assign the value 'hello' as the third value? (Assume [2, 4, 6, 8, 10] are in spam.)\n",
    "\n",
    "Ans:spam[2]='hello'"
   ]
  },
  {
   "cell_type": "code",
   "execution_count": 1,
   "id": "f6bd61ac",
   "metadata": {},
   "outputs": [
    {
     "name": "stdout",
     "output_type": "stream",
     "text": [
      "[2, 4, 6, 8, 10]\n",
      "[2, 4, 'Hello', 8, 10]\n"
     ]
    }
   ],
   "source": [
    "spam=[2,4,6,8,10]\n",
    "print(spam)\n",
    "spam[2]='Hello'\n",
    "print(spam)"
   ]
  },
  {
   "cell_type": "markdown",
   "id": "3b168912",
   "metadata": {},
   "source": [
    "Let's pretend the spam includes the list ['a','b','c',d'] for the next three queries.\n",
    "\n",
    "3.What is the value of spam[int(int('3'*2)//11)] ?\n",
    "\n",
    "Ans:This eventually evaluates to 3, spam[3] is equal to d\n"
   ]
  },
  {
   "cell_type": "code",
   "execution_count": 5,
   "id": "8a174c4f",
   "metadata": {},
   "outputs": [
    {
     "data": {
      "text/plain": [
       "'d'"
      ]
     },
     "execution_count": 5,
     "metadata": {},
     "output_type": "execute_result"
    }
   ],
   "source": [
    "spam=['a','b','c','d']\n",
    "spam[int(int('3'*2)//11)]"
   ]
  },
  {
   "cell_type": "markdown",
   "id": "45990a59",
   "metadata": {},
   "source": [
    "4.What is the value of spam[-1]?\n",
    "\n",
    "Ans: The value of spam[-1] is 'd'"
   ]
  },
  {
   "cell_type": "code",
   "execution_count": 7,
   "id": "3ead03f9",
   "metadata": {},
   "outputs": [
    {
     "data": {
      "text/plain": [
       "'d'"
      ]
     },
     "execution_count": 7,
     "metadata": {},
     "output_type": "execute_result"
    }
   ],
   "source": [
    "spam[-1]"
   ]
  },
  {
   "cell_type": "markdown",
   "id": "d1155bd1",
   "metadata": {},
   "source": [
    "5.What is the value of spam[:2]?\n",
    "\n",
    "Ans: spam[:2] returns ['a', 'b']"
   ]
  },
  {
   "cell_type": "code",
   "execution_count": 9,
   "id": "8d6e7a4f",
   "metadata": {},
   "outputs": [
    {
     "data": {
      "text/plain": [
       "['a', 'b']"
      ]
     },
     "execution_count": 9,
     "metadata": {},
     "output_type": "execute_result"
    }
   ],
   "source": [
    "spam[:2]"
   ]
  },
  {
   "cell_type": "markdown",
   "id": "b4e50789",
   "metadata": {},
   "source": [
    "Let's pretend bacon has the list [3.14,'cat',11,'cat',True] for the next three question\n",
    "\n",
    "6.What is the value of bacon.index('cat')?\n",
    "\n",
    "Ans:The value of bacon.index('cat') is 1 (Note: index method returns the index of first occuerence of 'cat')"
   ]
  },
  {
   "cell_type": "code",
   "execution_count": 20,
   "id": "d9521c5d",
   "metadata": {},
   "outputs": [
    {
     "data": {
      "text/plain": [
       "1"
      ]
     },
     "execution_count": 20,
     "metadata": {},
     "output_type": "execute_result"
    }
   ],
   "source": [
    "bacon=[3.14,'cat',11,'cat',True]\n",
    "bacon.index('cat')"
   ]
  },
  {
   "cell_type": "markdown",
   "id": "cf5bc3c8",
   "metadata": {},
   "source": [
    "7.How does bacon.append(99) change the look of the list value in bacon?\n",
    "\n",
    "Ans:The append method adds new elements to the end of the list"
   ]
  },
  {
   "cell_type": "code",
   "execution_count": 22,
   "id": "541940ba",
   "metadata": {},
   "outputs": [
    {
     "name": "stdout",
     "output_type": "stream",
     "text": [
      "[3.14, 'cat', 11, 'cat', True, 99]\n"
     ]
    }
   ],
   "source": [
    "bacon.append(99)\n",
    "print(bacon)"
   ]
  },
  {
   "cell_type": "markdown",
   "id": "336ccbd2",
   "metadata": {},
   "source": [
    "8.How does bacon.remove('cat') change the look of the list in bacon?\n",
    "\n",
    "Ans: The remove method removes the first occurence of the element in the list"
   ]
  },
  {
   "cell_type": "code",
   "execution_count": 23,
   "id": "17627007",
   "metadata": {},
   "outputs": [
    {
     "name": "stdout",
     "output_type": "stream",
     "text": [
      "[3.14, 11, 'cat', True, 99]\n"
     ]
    }
   ],
   "source": [
    "bacon.remove('cat')\n",
    "print(bacon)"
   ]
  },
  {
   "cell_type": "markdown",
   "id": "168cc27d",
   "metadata": {},
   "source": [
    "9.what are the list concatenation and list replication operations?\n",
    "\n",
    "Ans: The operator for list concatenation is +, while the operator for replication is *. (This is the same as for strings.)"
   ]
  },
  {
   "cell_type": "code",
   "execution_count": 24,
   "id": "07ceaf7b",
   "metadata": {},
   "outputs": [
    {
     "name": "stdout",
     "output_type": "stream",
     "text": [
      "['ML', 'DL', 'AI', 'CV', 'NLP', 'RNN', 'CNN', 'SVN']\n",
      "['RNN', 'CNN', 'SVN', 'RNN', 'CNN', 'SVN']\n"
     ]
    }
   ],
   "source": [
    "# Example\n",
    "list_1 = ['ML','DL','AI','CV','NLP']\n",
    "list_2 = ['RNN','CNN','SVN']\n",
    "print(list_1 + list_2) # List Concatenation\n",
    "print(list_2*2) # List Replication"
   ]
  },
  {
   "cell_type": "markdown",
   "id": "d1cb75d0",
   "metadata": {},
   "source": [
    "10.what is the difference between the list method append() and insert()?\n",
    "\n",
    "Ans:-Insert()can add them anywhere in the list as per given condition \n",
    "\n",
    "     Append() will only add values to the end of list "
   ]
  },
  {
   "cell_type": "code",
   "execution_count": 25,
   "id": "606a5d3c",
   "metadata": {},
   "outputs": [
    {
     "name": "stdout",
     "output_type": "stream",
     "text": [
      "[1, 2, 3, 4, 5, 6]\n",
      "[1, 2, 'Demo', 3, 4, 5, 6]\n"
     ]
    }
   ],
   "source": [
    "#Examples\n",
    "list = [1,2,3,4,5]\n",
    "list.append(6)\n",
    "print(list)\n",
    "list.insert(2,'Demo')\n",
    "print(list)"
   ]
  },
  {
   "cell_type": "markdown",
   "id": "6988fa3b",
   "metadata": {},
   "source": [
    "11.What are the two methods for removing items from a list?\n",
    "\n",
    "Ans:-The del statement and remove() method are two ways to remove items from a list"
   ]
  },
  {
   "cell_type": "markdown",
   "id": "eb68bac6",
   "metadata": {},
   "source": [
    "12.Describe how list values and string values are identical.\n",
    "\n",
    "Ans:Both lists and strings can be passed to len() function, have indexes and slices, be used in for loops, be concatenated or replicated, and be used with the in and not in operators."
   ]
  },
  {
   "cell_type": "markdown",
   "id": "7ee09e6e",
   "metadata": {},
   "source": [
    "13.What's the difference between tuples and lists?\n",
    "\n",
    "Ans:-Lists: Lists are mutable,indexable and slicable. You can add remove or change any values and it is denoted by [] brackets\n",
    "     Tuples: Tuples are immutable that is you cannot change its values but are indexable and sliceable and it is denoted using paranthese()"
   ]
  },
  {
   "cell_type": "markdown",
   "id": "8fb702b9",
   "metadata": {},
   "source": [
    "14.How do you type a tuple value that only contains the integer 42?\n",
    "\n",
    "Ans:(42,) (The trailing comma is mandatory. otherwise its considered as a int by python Interpreter)"
   ]
  },
  {
   "cell_type": "code",
   "execution_count": 30,
   "id": "2a036ab7",
   "metadata": {},
   "outputs": [
    {
     "name": "stdout",
     "output_type": "stream",
     "text": [
      "<class 'int'>\n",
      "<class 'tuple'>\n"
     ]
    }
   ],
   "source": [
    "tup1=(42)\n",
    "tup2=(42,)\n",
    "print(type(tup1))\n",
    "print(type(tup2))"
   ]
  },
  {
   "cell_type": "markdown",
   "id": "b1c307f7",
   "metadata": {},
   "source": [
    "15.How do you get a list value's tuple form? How do you get a tuple value's list form?\n",
    "\n",
    "Ans:- The tuple() and list() functions are used to convert list to tuples or vice versa"
   ]
  },
  {
   "cell_type": "markdown",
   "id": "185841b6",
   "metadata": {},
   "source": [
    "16.Variables that \"contain\" list values are not necessarily lists themselves. Instead, what do they contain?\n",
    "\n",
    "Ans: They contain references to list values."
   ]
  },
  {
   "cell_type": "markdown",
   "id": "ce8fe8d0",
   "metadata": {},
   "source": [
    "17.How do you distinguish between copy.copy() and copy.deepcopy()?\n",
    "\n",
    "Ans:The copy.copy() function will do a shallow copy of a list, while the copy.deepcopy() function will do a deep copy of a list. That is, only copy.deepcopy() will duplicate any lists inside the list."
   ]
  }
 ],
 "metadata": {
  "kernelspec": {
   "display_name": "Python 3 (ipykernel)",
   "language": "python",
   "name": "python3"
  },
  "language_info": {
   "codemirror_mode": {
    "name": "ipython",
    "version": 3
   },
   "file_extension": ".py",
   "mimetype": "text/x-python",
   "name": "python",
   "nbconvert_exporter": "python",
   "pygments_lexer": "ipython3",
   "version": "3.9.12"
  }
 },
 "nbformat": 4,
 "nbformat_minor": 5
}
