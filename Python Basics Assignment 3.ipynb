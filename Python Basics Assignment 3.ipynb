{
 "cells": [
  {
   "cell_type": "markdown",
   "id": "c7df7449",
   "metadata": {},
   "source": [
    "1.Why are functions advantageous to have in your programs?\n",
    "\n",
    "Ans: Function are advantageous because it will reduce the lenght of the code and we can reuse more often without typing all the code again and again .It makes programs shorter and easier to manitain and update ."
   ]
  },
  {
   "cell_type": "markdown",
   "id": "0b984c4f",
   "metadata": {},
   "source": [
    "2.When does the code in a function run: when it's specified or when it's called?\n",
    "\n",
    "Ans: The code in a function runs when it is called not when it is specified."
   ]
  },
  {
   "cell_type": "markdown",
   "id": "56cfe011",
   "metadata": {},
   "source": [
    "3.What statement creates a function?\n",
    "\n",
    "Ans: The def statements creates a function "
   ]
  },
  {
   "cell_type": "code",
   "execution_count": 1,
   "id": "257f4719",
   "metadata": {},
   "outputs": [],
   "source": [
    "def create_func(x): #def func\n",
    "    for i in x:\n",
    "        if i==1:\n",
    "            print(x)"
   ]
  },
  {
   "cell_type": "markdown",
   "id": "e24fe6e9",
   "metadata": {},
   "source": [
    "4.What is the difference between a function and a function call?\n",
    "\n",
    "Ans:- A function is procedure to achieve a particular result. while function call is using this function to achive that task. Using a function to do a particular task any point in program is called as function call."
   ]
  },
  {
   "cell_type": "markdown",
   "id": "069ebd94",
   "metadata": {},
   "source": [
    "5.How many global scopes are there in a Python program? How many local scopes?\n",
    "\n",
    "Ans:There is one global scope, and a local scope is created whenever a function is called."
   ]
  },
  {
   "cell_type": "markdown",
   "id": "6d5a808d",
   "metadata": {},
   "source": [
    "6.What happens to variables in a local scope when the function call returns?\n",
    "\n",
    "Ans:When a function returns, the local scope is destroyed, and all the variables in it are forgotten."
   ]
  },
  {
   "cell_type": "markdown",
   "id": "1297fd72",
   "metadata": {},
   "source": [
    "7.What is the concept of a return value? Is it possible to have a return value in an expression?\n",
    "\n",
    "Ans:A return value is same as any other values that can be used as a part of expression .\n",
    "A return value is the value that a function call evaluates to."
   ]
  },
  {
   "cell_type": "markdown",
   "id": "080350f4",
   "metadata": {},
   "source": [
    "8.If a function does not have a return statement, what is the return value of a call to that function?\n",
    "\n",
    "Ans:If there is no return statement in a function its return value will be none"
   ]
  },
  {
   "cell_type": "markdown",
   "id": "27a8a64b",
   "metadata": {},
   "source": [
    "9.How do you make a function variable refer to the global variable?\n",
    "Ans: If you want to refer to a global variable in a function, you can use the global keyword to declare which variables are global."
   ]
  },
  {
   "cell_type": "markdown",
   "id": "922a26cf",
   "metadata": {},
   "source": [
    "10.What is the data type of None?\n",
    "\n",
    "Ans:The data type of None is Nonetype"
   ]
  },
  {
   "cell_type": "markdown",
   "id": "682035c5",
   "metadata": {},
   "source": [
    "11.What does the sentence import areallyourpetsnamederic do?\n",
    "\n",
    "Ans: It will import a module called areallyourpetsnamederic."
   ]
  },
  {
   "cell_type": "markdown",
   "id": "fd6e21b2",
   "metadata": {},
   "source": [
    "12.If you had a bacon() feature in a spam module, what would you call it after importing spam?\n",
    "\n",
    "Ans: this function can be called as spam.bacon()."
   ]
  },
  {
   "cell_type": "markdown",
   "id": "7f6c743c",
   "metadata": {},
   "source": [
    "13.What can you do to save a programme from crashing if it encounters an error?\n",
    "\n",
    "Ans: We can use Exceptional handling to solve it if it encounters an error .\n",
    "Place the line of code that might cause an error in a try clause and use except block to handle the error."
   ]
  },
  {
   "cell_type": "markdown",
   "id": "ea7c2bfb",
   "metadata": {},
   "source": [
    "14.What is the purpose of the try clause? What is the purpose of the except clause?\n",
    "\n",
    "Ans:The code that could potentially cause an error goes in the try clause. The code that executes if an error happens goes in the except clause."
   ]
  },
  {
   "cell_type": "code",
   "execution_count": null,
   "id": "7e63bff4",
   "metadata": {},
   "outputs": [],
   "source": []
  }
 ],
 "metadata": {
  "kernelspec": {
   "display_name": "Python 3 (ipykernel)",
   "language": "python",
   "name": "python3"
  },
  "language_info": {
   "codemirror_mode": {
    "name": "ipython",
    "version": 3
   },
   "file_extension": ".py",
   "mimetype": "text/x-python",
   "name": "python",
   "nbconvert_exporter": "python",
   "pygments_lexer": "ipython3",
   "version": "3.9.12"
  }
 },
 "nbformat": 4,
 "nbformat_minor": 5
}
