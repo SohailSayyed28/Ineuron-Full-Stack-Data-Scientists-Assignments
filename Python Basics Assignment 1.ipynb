{
 "cells": [
  {
   "cell_type": "markdown",
   "id": "cb0e4579",
   "metadata": {},
   "source": [
    "1. In the below elements which of them are values or an expression? eg:- values can be\n",
    "integer or string and expressions will be mathematical operators.\n",
    "\n",
    "Ans:-  Expressions = 'hello', 6 , -87.8\n",
    "       Operators = * , - , / , + "
   ]
  },
  {
   "cell_type": "markdown",
   "id": "89ee024b",
   "metadata": {},
   "source": [
    "2. What is the difference between string and variable?\n",
    "\n",
    "Ans:- Variable is used to store information whereas string is part of information which we can store in a variable .A String is a group of characters or a single character that is usually stored in a single quotes(' ') or \n",
    "(\" \")double quotes."
   ]
  },
  {
   "cell_type": "markdown",
   "id": "4a79a6df",
   "metadata": {},
   "source": [
    "3. Describe three different Data Types ?\n",
    "\n",
    "Ans:- The three different data Types are int,float,complex.\n",
    "\n",
    "int data type: We can use int data type to represent whole numbers (integral values)\n",
    "float data type: We can use float data type to represent floating point values (decimal values)\n",
    "complex data type: Complex number is represented by complex class."
   ]
  },
  {
   "cell_type": "markdown",
   "id": "dcc12694",
   "metadata": {},
   "source": [
    "4. What is an expression made up of? What do all expressions do?\n",
    "\n",
    "Ans:-An expression is a combination of values , variable and operators that and calls to functions. "
   ]
  },
  {
   "cell_type": "code",
   "execution_count": 5,
   "id": "6d53f965",
   "metadata": {},
   "outputs": [
    {
     "data": {
      "text/plain": [
       "242"
      ]
     },
     "execution_count": 5,
     "metadata": {},
     "output_type": "execute_result"
    }
   ],
   "source": [
    "#Ex:- This is an expression\n",
    "5*8*6+86-84"
   ]
  },
  {
   "cell_type": "markdown",
   "id": "73ca7f65",
   "metadata": {},
   "source": [
    "5. This assignment statements, like spam = 10. What is the difference between an expression and a statement?\n",
    "\n",
    "Ans:-An expression is a combination of values , variable and operators. \n",
    "When we type an expression at the prompt, the interpreter evaluates it, which means that it finds the value of the expression.\n",
    "\n",
    "A statement is a unit of code that is like creating a variable or displaying a value .In general statements don't have values."
   ]
  },
  {
   "cell_type": "code",
   "execution_count": 6,
   "id": "5a5ac2ed",
   "metadata": {},
   "outputs": [
    {
     "name": "stdout",
     "output_type": "stream",
     "text": [
      "Hello World !\n"
     ]
    }
   ],
   "source": [
    "#Example:\n",
    "5*8*6+86-840 # Is a Expression\n",
    "courseName = 'INeuron FullStack DataScience' # Is a Statement\n",
    "print(\"Hello World !\") # Is a Expression Statement"
   ]
  },
  {
   "cell_type": "markdown",
   "id": "e8a9fe46",
   "metadata": {},
   "source": [
    "6.After running the following code, what does the variable bacon contain?\n",
    "bacon = 22\n",
    "bacon + 1\n",
    "\n",
    "Ans:-In first case the variable bacon is set to 22. the expression bacon+1 does not reassign the value in bacon (that would the case if the expression is like bacon = bacon + 1 instead of bacon + 1)"
   ]
  },
  {
   "cell_type": "code",
   "execution_count": 7,
   "id": "24776410",
   "metadata": {},
   "outputs": [
    {
     "name": "stdout",
     "output_type": "stream",
     "text": [
      "22\n"
     ]
    }
   ],
   "source": [
    "#1st case \n",
    "bacon = 22\n",
    "bacon+1\n",
    "print(bacon)"
   ]
  },
  {
   "cell_type": "code",
   "execution_count": 8,
   "id": "da897ec9",
   "metadata": {},
   "outputs": [
    {
     "name": "stdout",
     "output_type": "stream",
     "text": [
      "23\n"
     ]
    }
   ],
   "source": [
    "#2nd case \n",
    "bacon = 22\n",
    "bacon=bacon+1\n",
    "print(bacon)"
   ]
  },
  {
   "cell_type": "markdown",
   "id": "015043f1",
   "metadata": {},
   "source": [
    "7.What should the values of the following two terms be?\n",
    "'spam'+'spamspam'\n",
    "'spam'*3\n",
    "\n",
    "Ans:- Both expression will give result 'spamspamspam' whereas in first experssion it is following 'Sting concatenation' and in second expression it is following 'String Multiplication'"
   ]
  },
  {
   "cell_type": "code",
   "execution_count": 9,
   "id": "b16b012a",
   "metadata": {},
   "outputs": [
    {
     "name": "stdout",
     "output_type": "stream",
     "text": [
      "spamspamspam\n",
      "spamspamspam\n"
     ]
    }
   ],
   "source": [
    "print('spam'+'spamspam') # string concatenation\n",
    "print('spam'*3) # string multiplication"
   ]
  },
  {
   "cell_type": "markdown",
   "id": "93cc0267",
   "metadata": {},
   "source": [
    "8. Why is eggs a valid variable name while 100 is invalid?\n",
    "\n",
    "Ans:- As per python Varibale name cannot begin with a number . Rules for naming a varibale are:\n",
    "Variable name must start with a letter or underscore character \n",
    "Variable name cannot start with a number \n",
    "Variable name can only contain alphanumeric character and underscores \n",
    "Variable name are case sensitive"
   ]
  },
  {
   "cell_type": "markdown",
   "id": "1b3f0577",
   "metadata": {},
   "source": [
    "9.What three functions can be used to get the integer,floating-point number,or string version of a value?\n",
    "\n",
    "Ans:- For integer we can use = int()\n",
    "      For string we can use = str()\n",
    "      For floating point number we can use = float()."
   ]
  },
  {
   "cell_type": "code",
   "execution_count": 10,
   "id": "6fd930e3",
   "metadata": {},
   "outputs": [
    {
     "name": "stdout",
     "output_type": "stream",
     "text": [
      "int(10.0) ->  10\n",
      "float(10) ->  10.0\n",
      "str(10) ->  10\n"
     ]
    }
   ],
   "source": [
    "# Examples:\n",
    "print('int(10.0) -> ',int(10.0)) # int() function converts given input to int\n",
    "print('float(10) -> ',float(10)) # float() function converts given input to float\n",
    "print('str(10) -> ',str(10)) # str() function converts given input to string"
   ]
  },
  {
   "cell_type": "markdown",
   "id": "200dea8e",
   "metadata": {},
   "source": [
    "10.Why does this expression cause an error? how can you fix it?\n",
    "'I have eaten ' + 99 + 'burritos.'\n",
    "\n",
    "Ans:-The experssion is causing an error because 99 is not a string and to resolve the error we must typecaste it into string ."
   ]
  },
  {
   "cell_type": "code",
   "execution_count": 12,
   "id": "27035547",
   "metadata": {},
   "outputs": [
    {
     "name": "stdout",
     "output_type": "stream",
     "text": [
      "I have eaten 99 burritos\n"
     ]
    }
   ],
   "source": [
    "print(\"I have eaten \" + str(99)+\" burritos\")"
   ]
  },
  {
   "cell_type": "code",
   "execution_count": null,
   "id": "36efcb6d",
   "metadata": {},
   "outputs": [],
   "source": []
  }
 ],
 "metadata": {
  "kernelspec": {
   "display_name": "Python 3 (ipykernel)",
   "language": "python",
   "name": "python3"
  },
  "language_info": {
   "codemirror_mode": {
    "name": "ipython",
    "version": 3
   },
   "file_extension": ".py",
   "mimetype": "text/x-python",
   "name": "python",
   "nbconvert_exporter": "python",
   "pygments_lexer": "ipython3",
   "version": "3.9.12"
  }
 },
 "nbformat": 4,
 "nbformat_minor": 5
}
